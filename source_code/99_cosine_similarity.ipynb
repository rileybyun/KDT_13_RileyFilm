{
 "cells": [
  {
   "cell_type": "markdown",
   "metadata": {},
   "source": [
    "코사인 유사도 측정 예시코드"
   ]
  },
  {
   "cell_type": "code",
   "execution_count": 1,
   "metadata": {},
   "outputs": [],
   "source": [
    "import numpy as np\n",
    "from numpy.linalg import norm\n",
    "\n",
    "def cos_sim(A, B):\n",
    "    return np.dot(A, B) / (norm(A) * norm(B))"
   ]
  },
  {
   "cell_type": "code",
   "execution_count": 2,
   "metadata": {},
   "outputs": [],
   "source": [
    "doc1 = np.array([0, 1, 1, 1])\n",
    "doc2 = np.array([1, 0, 1, 1])\n",
    "doc3 = np.array([2, 0, 2, 2])"
   ]
  },
  {
   "cell_type": "code",
   "execution_count": 5,
   "metadata": {},
   "outputs": [
    {
     "name": "stdout",
     "output_type": "stream",
     "text": [
      "문서 1과 문서 2의 유사도 : 0.67\n",
      "문서 1과 문서 3의 유사도 : 0.67\n",
      "문서 2과 문서 3의 유사도 : 1.00\n"
     ]
    }
   ],
   "source": [
    "print(f'문서 1과 문서 2의 유사도 : {cos_sim(doc1, doc2):.2f}')\n",
    "print(f'문서 1과 문서 3의 유사도 : {cos_sim(doc1, doc3):.2f}')\n",
    "print(f'문서 2과 문서 3의 유사도 : {cos_sim(doc2, doc3):.2f}')"
   ]
  },
  {
   "cell_type": "code",
   "execution_count": null,
   "metadata": {},
   "outputs": [],
   "source": []
  }
 ],
 "metadata": {
  "kernelspec": {
   "display_name": "Text_017_220_38",
   "language": "python",
   "name": "python3"
  },
  "language_info": {
   "codemirror_mode": {
    "name": "ipython",
    "version": 3
   },
   "file_extension": ".py",
   "mimetype": "text/x-python",
   "name": "python",
   "nbconvert_exporter": "python",
   "pygments_lexer": "ipython3",
   "version": "3.8.19"
  }
 },
 "nbformat": 4,
 "nbformat_minor": 2
}
