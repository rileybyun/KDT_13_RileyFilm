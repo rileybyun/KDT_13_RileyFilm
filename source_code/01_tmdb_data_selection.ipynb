{
 "cells": [
  {
   "cell_type": "markdown",
   "metadata": {},
   "source": [
    "데이터셋 출처 :\n",
    "- https://www.kaggle.com/datasets/asaniczka/tmdb-movies-dataset-2023-930k-movies\n",
    "- https://www.kaggle.com/datasets/tmdb/tmdb-movie-metadata"
   ]
  },
  {
   "cell_type": "code",
   "execution_count": 1,
   "metadata": {},
   "outputs": [],
   "source": [
    "import pandas as pd\n",
    "import json"
   ]
  },
  {
   "cell_type": "code",
   "execution_count": 2,
   "metadata": {},
   "outputs": [],
   "source": [
    "movieDF = pd.read_csv('../data/tmdb_dataset/TMDB_movie_dataset_v11.csv')"
   ]
  },
  {
   "cell_type": "code",
   "execution_count": 3,
   "metadata": {},
   "outputs": [
    {
     "name": "stdout",
     "output_type": "stream",
     "text": [
      "<class 'pandas.core.frame.DataFrame'>\n",
      "RangeIndex: 1028972 entries, 0 to 1028971\n",
      "Data columns (total 24 columns):\n",
      " #   Column                Non-Null Count    Dtype  \n",
      "---  ------                --------------    -----  \n",
      " 0   id                    1028972 non-null  int64  \n",
      " 1   title                 1028960 non-null  object \n",
      " 2   vote_average          1028972 non-null  float64\n",
      " 3   vote_count            1028972 non-null  int64  \n",
      " 4   status                1028972 non-null  object \n",
      " 5   release_date          900122 non-null   object \n",
      " 6   revenue               1028972 non-null  int64  \n",
      " 7   runtime               1028972 non-null  int64  \n",
      " 8   adult                 1028972 non-null  bool   \n",
      " 9   backdrop_path         286782 non-null   object \n",
      " 10  budget                1028972 non-null  int64  \n",
      " 11  homepage              111303 non-null   object \n",
      " 12  imdb_id               578353 non-null   object \n",
      " 13  original_language     1028972 non-null  object \n",
      " 14  original_title        1028960 non-null  object \n",
      " 15  overview              839370 non-null   object \n",
      " 16  popularity            1028972 non-null  float64\n",
      " 17  poster_path           735332 non-null   object \n",
      " 18  tagline               147027 non-null   object \n",
      " 19  genres                642901 non-null   object \n",
      " 20  production_companies  484109 non-null   object \n",
      " 21  production_countries  602888 non-null   object \n",
      " 22  spoken_languages      614891 non-null   object \n",
      " 23  keywords              293972 non-null   object \n",
      "dtypes: bool(1), float64(2), int64(5), object(16)\n",
      "memory usage: 181.5+ MB\n"
     ]
    }
   ],
   "source": [
    "### 1028972 개의 행 존재\n",
    "### backdrop_path, poster_path 존재\n",
    "### cast, crew 정보 X\n",
    "movieDF.info()"
   ]
  },
  {
   "cell_type": "code",
   "execution_count": 4,
   "metadata": {},
   "outputs": [
    {
     "data": {
      "text/html": [
       "<div>\n",
       "<style scoped>\n",
       "    .dataframe tbody tr th:only-of-type {\n",
       "        vertical-align: middle;\n",
       "    }\n",
       "\n",
       "    .dataframe tbody tr th {\n",
       "        vertical-align: top;\n",
       "    }\n",
       "\n",
       "    .dataframe thead th {\n",
       "        text-align: right;\n",
       "    }\n",
       "</style>\n",
       "<table border=\"1\" class=\"dataframe\">\n",
       "  <thead>\n",
       "    <tr style=\"text-align: right;\">\n",
       "      <th></th>\n",
       "      <th>id</th>\n",
       "      <th>title</th>\n",
       "      <th>vote_average</th>\n",
       "      <th>vote_count</th>\n",
       "      <th>release_date</th>\n",
       "      <th>runtime</th>\n",
       "      <th>backdrop_path</th>\n",
       "      <th>homepage</th>\n",
       "      <th>original_language</th>\n",
       "      <th>overview</th>\n",
       "      <th>popularity</th>\n",
       "      <th>poster_path</th>\n",
       "      <th>tagline</th>\n",
       "      <th>genres</th>\n",
       "      <th>production_countries</th>\n",
       "      <th>keywords</th>\n",
       "    </tr>\n",
       "  </thead>\n",
       "  <tbody>\n",
       "    <tr>\n",
       "      <th>0</th>\n",
       "      <td>27205</td>\n",
       "      <td>Inception</td>\n",
       "      <td>8.364</td>\n",
       "      <td>34495</td>\n",
       "      <td>2010-07-15</td>\n",
       "      <td>148</td>\n",
       "      <td>/8ZTVqvKDQ8emSGUEMjsS4yHAwrp.jpg</td>\n",
       "      <td>https://www.warnerbros.com/movies/inception</td>\n",
       "      <td>en</td>\n",
       "      <td>Cobb, a skilled thief who commits corporate es...</td>\n",
       "      <td>83.952</td>\n",
       "      <td>/oYuLEt3zVCKq57qu2F8dT7NIa6f.jpg</td>\n",
       "      <td>Your mind is the scene of the crime.</td>\n",
       "      <td>Action, Science Fiction, Adventure</td>\n",
       "      <td>United Kingdom, United States of America</td>\n",
       "      <td>rescue, mission, dream, airplane, paris, franc...</td>\n",
       "    </tr>\n",
       "    <tr>\n",
       "      <th>1</th>\n",
       "      <td>157336</td>\n",
       "      <td>Interstellar</td>\n",
       "      <td>8.417</td>\n",
       "      <td>32571</td>\n",
       "      <td>2014-11-05</td>\n",
       "      <td>169</td>\n",
       "      <td>/pbrkL804c8yAv3zBZR4QPEafpAR.jpg</td>\n",
       "      <td>http://www.interstellarmovie.net/</td>\n",
       "      <td>en</td>\n",
       "      <td>The adventures of a group of explorers who mak...</td>\n",
       "      <td>140.241</td>\n",
       "      <td>/gEU2QniE6E77NI6lCU6MxlNBvIx.jpg</td>\n",
       "      <td>Mankind was born on Earth. It was never meant ...</td>\n",
       "      <td>Adventure, Drama, Science Fiction</td>\n",
       "      <td>United Kingdom, United States of America</td>\n",
       "      <td>rescue, future, spacecraft, race against time,...</td>\n",
       "    </tr>\n",
       "  </tbody>\n",
       "</table>\n",
       "</div>"
      ],
      "text/plain": [
       "       id         title  vote_average  vote_count release_date  runtime  \\\n",
       "0   27205     Inception         8.364       34495   2010-07-15      148   \n",
       "1  157336  Interstellar         8.417       32571   2014-11-05      169   \n",
       "\n",
       "                      backdrop_path  \\\n",
       "0  /8ZTVqvKDQ8emSGUEMjsS4yHAwrp.jpg   \n",
       "1  /pbrkL804c8yAv3zBZR4QPEafpAR.jpg   \n",
       "\n",
       "                                      homepage original_language  \\\n",
       "0  https://www.warnerbros.com/movies/inception                en   \n",
       "1            http://www.interstellarmovie.net/                en   \n",
       "\n",
       "                                            overview  popularity  \\\n",
       "0  Cobb, a skilled thief who commits corporate es...      83.952   \n",
       "1  The adventures of a group of explorers who mak...     140.241   \n",
       "\n",
       "                        poster_path  \\\n",
       "0  /oYuLEt3zVCKq57qu2F8dT7NIa6f.jpg   \n",
       "1  /gEU2QniE6E77NI6lCU6MxlNBvIx.jpg   \n",
       "\n",
       "                                             tagline  \\\n",
       "0               Your mind is the scene of the crime.   \n",
       "1  Mankind was born on Earth. It was never meant ...   \n",
       "\n",
       "                               genres  \\\n",
       "0  Action, Science Fiction, Adventure   \n",
       "1   Adventure, Drama, Science Fiction   \n",
       "\n",
       "                       production_countries  \\\n",
       "0  United Kingdom, United States of America   \n",
       "1  United Kingdom, United States of America   \n",
       "\n",
       "                                            keywords  \n",
       "0  rescue, mission, dream, airplane, paris, franc...  \n",
       "1  rescue, future, spacecraft, race against time,...  "
      ]
     },
     "execution_count": 4,
     "metadata": {},
     "output_type": "execute_result"
    }
   ],
   "source": [
    "### 사용할 컬럼\n",
    "movieDF.iloc[:2, [0, 1, 2, 3, 5, 7, 9, 11, 13, 15, 16, 17, 18, 19, 21, 23]]"
   ]
  },
  {
   "cell_type": "code",
   "execution_count": 5,
   "metadata": {},
   "outputs": [],
   "source": [
    "creditDF = pd.read_csv('../data/tmdb_dataset/tmdb_5000_credits.csv')"
   ]
  },
  {
   "cell_type": "code",
   "execution_count": 6,
   "metadata": {},
   "outputs": [
    {
     "name": "stdout",
     "output_type": "stream",
     "text": [
      "<class 'pandas.core.frame.DataFrame'>\n",
      "RangeIndex: 4803 entries, 0 to 4802\n",
      "Data columns (total 4 columns):\n",
      " #   Column    Non-Null Count  Dtype \n",
      "---  ------    --------------  ----- \n",
      " 0   movie_id  4803 non-null   int64 \n",
      " 1   title     4803 non-null   object\n",
      " 2   cast      4803 non-null   object\n",
      " 3   crew      4803 non-null   object\n",
      "dtypes: int64(1), object(3)\n",
      "memory usage: 150.2+ KB\n"
     ]
    }
   ],
   "source": [
    "### 4802 개의 행 존재\n",
    "### cast, crew 존재\n",
    "creditDF.info()"
   ]
  },
  {
   "cell_type": "code",
   "execution_count": 7,
   "metadata": {},
   "outputs": [
    {
     "data": {
      "text/html": [
       "<div>\n",
       "<style scoped>\n",
       "    .dataframe tbody tr th:only-of-type {\n",
       "        vertical-align: middle;\n",
       "    }\n",
       "\n",
       "    .dataframe tbody tr th {\n",
       "        vertical-align: top;\n",
       "    }\n",
       "\n",
       "    .dataframe thead th {\n",
       "        text-align: right;\n",
       "    }\n",
       "</style>\n",
       "<table border=\"1\" class=\"dataframe\">\n",
       "  <thead>\n",
       "    <tr style=\"text-align: right;\">\n",
       "      <th></th>\n",
       "      <th>movie_id</th>\n",
       "      <th>title</th>\n",
       "      <th>cast</th>\n",
       "      <th>crew</th>\n",
       "    </tr>\n",
       "  </thead>\n",
       "  <tbody>\n",
       "    <tr>\n",
       "      <th>0</th>\n",
       "      <td>19995</td>\n",
       "      <td>Avatar</td>\n",
       "      <td>[{\"cast_id\": 242, \"character\": \"Jake Sully\", \"...</td>\n",
       "      <td>[{\"credit_id\": \"52fe48009251416c750aca23\", \"de...</td>\n",
       "    </tr>\n",
       "    <tr>\n",
       "      <th>1</th>\n",
       "      <td>285</td>\n",
       "      <td>Pirates of the Caribbean: At World's End</td>\n",
       "      <td>[{\"cast_id\": 4, \"character\": \"Captain Jack Spa...</td>\n",
       "      <td>[{\"credit_id\": \"52fe4232c3a36847f800b579\", \"de...</td>\n",
       "    </tr>\n",
       "  </tbody>\n",
       "</table>\n",
       "</div>"
      ],
      "text/plain": [
       "   movie_id                                     title  \\\n",
       "0     19995                                    Avatar   \n",
       "1       285  Pirates of the Caribbean: At World's End   \n",
       "\n",
       "                                                cast  \\\n",
       "0  [{\"cast_id\": 242, \"character\": \"Jake Sully\", \"...   \n",
       "1  [{\"cast_id\": 4, \"character\": \"Captain Jack Spa...   \n",
       "\n",
       "                                                crew  \n",
       "0  [{\"credit_id\": \"52fe48009251416c750aca23\", \"de...  \n",
       "1  [{\"credit_id\": \"52fe4232c3a36847f800b579\", \"de...  "
      ]
     },
     "execution_count": 7,
     "metadata": {},
     "output_type": "execute_result"
    }
   ],
   "source": [
    "### 사용할 컬럼\n",
    "creditDF.head(2)"
   ]
  },
  {
   "cell_type": "code",
   "execution_count": 8,
   "metadata": {},
   "outputs": [
    {
     "data": {
      "text/html": [
       "<div>\n",
       "<style scoped>\n",
       "    .dataframe tbody tr th:only-of-type {\n",
       "        vertical-align: middle;\n",
       "    }\n",
       "\n",
       "    .dataframe tbody tr th {\n",
       "        vertical-align: top;\n",
       "    }\n",
       "\n",
       "    .dataframe thead th {\n",
       "        text-align: right;\n",
       "    }\n",
       "</style>\n",
       "<table border=\"1\" class=\"dataframe\">\n",
       "  <thead>\n",
       "    <tr style=\"text-align: right;\">\n",
       "      <th></th>\n",
       "      <th>id</th>\n",
       "      <th>title</th>\n",
       "      <th>vote_average</th>\n",
       "      <th>vote_count</th>\n",
       "      <th>status</th>\n",
       "      <th>release_date</th>\n",
       "      <th>revenue</th>\n",
       "      <th>runtime</th>\n",
       "      <th>adult</th>\n",
       "      <th>backdrop_path</th>\n",
       "      <th>...</th>\n",
       "      <th>original_title</th>\n",
       "      <th>overview</th>\n",
       "      <th>popularity</th>\n",
       "      <th>poster_path</th>\n",
       "      <th>tagline</th>\n",
       "      <th>genres</th>\n",
       "      <th>production_companies</th>\n",
       "      <th>production_countries</th>\n",
       "      <th>spoken_languages</th>\n",
       "      <th>keywords</th>\n",
       "    </tr>\n",
       "  </thead>\n",
       "  <tbody>\n",
       "    <tr>\n",
       "      <th>3</th>\n",
       "      <td>19995</td>\n",
       "      <td>Avatar</td>\n",
       "      <td>7.573</td>\n",
       "      <td>29815</td>\n",
       "      <td>Released</td>\n",
       "      <td>2009-12-15</td>\n",
       "      <td>2923706026</td>\n",
       "      <td>162</td>\n",
       "      <td>False</td>\n",
       "      <td>/vL5LR6WdxWPjLPFRLe133jXWsh5.jpg</td>\n",
       "      <td>...</td>\n",
       "      <td>Avatar</td>\n",
       "      <td>In the 22nd century, a paraplegic Marine is di...</td>\n",
       "      <td>79.932</td>\n",
       "      <td>/kyeqWdyUXW608qlYkRqosgbbJyK.jpg</td>\n",
       "      <td>Enter the world of Pandora.</td>\n",
       "      <td>Action, Adventure, Fantasy, Science Fiction</td>\n",
       "      <td>Dune Entertainment, Lightstorm Entertainment, ...</td>\n",
       "      <td>United States of America, United Kingdom</td>\n",
       "      <td>English, Spanish</td>\n",
       "      <td>future, society, culture clash, space travel, ...</td>\n",
       "    </tr>\n",
       "  </tbody>\n",
       "</table>\n",
       "<p>1 rows × 24 columns</p>\n",
       "</div>"
      ],
      "text/plain": [
       "      id   title  vote_average  vote_count    status release_date     revenue  \\\n",
       "3  19995  Avatar         7.573       29815  Released   2009-12-15  2923706026   \n",
       "\n",
       "   runtime  adult                     backdrop_path  ...  original_title  \\\n",
       "3      162  False  /vL5LR6WdxWPjLPFRLe133jXWsh5.jpg  ...          Avatar   \n",
       "\n",
       "                                            overview popularity  \\\n",
       "3  In the 22nd century, a paraplegic Marine is di...     79.932   \n",
       "\n",
       "                        poster_path                      tagline  \\\n",
       "3  /kyeqWdyUXW608qlYkRqosgbbJyK.jpg  Enter the world of Pandora.   \n",
       "\n",
       "                                        genres  \\\n",
       "3  Action, Adventure, Fantasy, Science Fiction   \n",
       "\n",
       "                                production_companies  \\\n",
       "3  Dune Entertainment, Lightstorm Entertainment, ...   \n",
       "\n",
       "                       production_countries  spoken_languages  \\\n",
       "3  United States of America, United Kingdom  English, Spanish   \n",
       "\n",
       "                                            keywords  \n",
       "3  future, society, culture clash, space travel, ...  \n",
       "\n",
       "[1 rows x 24 columns]"
      ]
     },
     "execution_count": 8,
     "metadata": {},
     "output_type": "execute_result"
    }
   ],
   "source": [
    "### 둘 다 동일한 id 사용 (tmdb 기준)\n",
    "movieDF[movieDF['id']==19995]"
   ]
  },
  {
   "cell_type": "code",
   "execution_count": 9,
   "metadata": {},
   "outputs": [],
   "source": [
    "### movieDF를 creditDF에 병합(creditDF의 id가 기준)\n",
    "movieDF = creditDF.merge(movieDF.iloc[:, [0, 2, 3, 5, 7, 9, 11, 13, 15, 16, 17, 18, 19, 21, 23]],\n",
    "                         how='inner', left_on='movie_id', right_on='id')"
   ]
  },
  {
   "cell_type": "code",
   "execution_count": 10,
   "metadata": {},
   "outputs": [
    {
     "name": "stdout",
     "output_type": "stream",
     "text": [
      "<class 'pandas.core.frame.DataFrame'>\n",
      "RangeIndex: 4796 entries, 0 to 4795\n",
      "Data columns (total 19 columns):\n",
      " #   Column                Non-Null Count  Dtype  \n",
      "---  ------                --------------  -----  \n",
      " 0   movie_id              4796 non-null   int64  \n",
      " 1   title                 4796 non-null   object \n",
      " 2   cast                  4796 non-null   object \n",
      " 3   crew                  4796 non-null   object \n",
      " 4   id                    4796 non-null   int64  \n",
      " 5   vote_average          4796 non-null   float64\n",
      " 6   vote_count            4796 non-null   int64  \n",
      " 7   release_date          4796 non-null   object \n",
      " 8   runtime               4796 non-null   int64  \n",
      " 9   backdrop_path         4615 non-null   object \n",
      " 10  homepage              1772 non-null   object \n",
      " 11  original_language     4796 non-null   object \n",
      " 12  overview              4795 non-null   object \n",
      " 13  popularity            4796 non-null   float64\n",
      " 14  poster_path           4771 non-null   object \n",
      " 15  tagline               4222 non-null   object \n",
      " 16  genres                4789 non-null   object \n",
      " 17  production_countries  4707 non-null   object \n",
      " 18  keywords              4523 non-null   object \n",
      "dtypes: float64(2), int64(4), object(13)\n",
      "memory usage: 712.0+ KB\n"
     ]
    }
   ],
   "source": [
    "movieDF.info()"
   ]
  },
  {
   "cell_type": "code",
   "execution_count": 11,
   "metadata": {},
   "outputs": [],
   "source": [
    "### 열 순서 재조정 (id, movie_id 중복되므로 movie_id 제외)\n",
    "movieDF = movieDF.iloc[:, [4, 1, 7, 11, 12, 2, 3, 17, 18, 15, 16, 5, 6, 13, 8, 9, 14, 10]]"
   ]
  },
  {
   "cell_type": "code",
   "execution_count": 12,
   "metadata": {},
   "outputs": [
    {
     "name": "stdout",
     "output_type": "stream",
     "text": [
      "<class 'pandas.core.frame.DataFrame'>\n",
      "RangeIndex: 4796 entries, 0 to 4795\n",
      "Data columns (total 18 columns):\n",
      " #   Column                Non-Null Count  Dtype  \n",
      "---  ------                --------------  -----  \n",
      " 0   id                    4796 non-null   int64  \n",
      " 1   title                 4796 non-null   object \n",
      " 2   release_date          4796 non-null   object \n",
      " 3   original_language     4796 non-null   object \n",
      " 4   overview              4795 non-null   object \n",
      " 5   cast                  4796 non-null   object \n",
      " 6   crew                  4796 non-null   object \n",
      " 7   production_countries  4707 non-null   object \n",
      " 8   keywords              4523 non-null   object \n",
      " 9   tagline               4222 non-null   object \n",
      " 10  genres                4789 non-null   object \n",
      " 11  vote_average          4796 non-null   float64\n",
      " 12  vote_count            4796 non-null   int64  \n",
      " 13  popularity            4796 non-null   float64\n",
      " 14  runtime               4796 non-null   int64  \n",
      " 15  backdrop_path         4615 non-null   object \n",
      " 16  poster_path           4771 non-null   object \n",
      " 17  homepage              1772 non-null   object \n",
      "dtypes: float64(2), int64(3), object(13)\n",
      "memory usage: 674.6+ KB\n"
     ]
    }
   ],
   "source": [
    "movieDF.info()"
   ]
  },
  {
   "cell_type": "code",
   "execution_count": 14,
   "metadata": {},
   "outputs": [],
   "source": [
    "### 전처리된 DataFrame을 csv 파일로 저장\n",
    "movieDF.to_csv('../data/processed/tmdb_4796.csv', index=False)"
   ]
  },
  {
   "cell_type": "code",
   "execution_count": null,
   "metadata": {},
   "outputs": [],
   "source": []
  }
 ],
 "metadata": {
  "kernelspec": {
   "display_name": "Text_017_220_38",
   "language": "python",
   "name": "python3"
  },
  "language_info": {
   "codemirror_mode": {
    "name": "ipython",
    "version": 3
   },
   "file_extension": ".py",
   "mimetype": "text/x-python",
   "name": "python",
   "nbconvert_exporter": "python",
   "pygments_lexer": "ipython3",
   "version": "3.8.19"
  }
 },
 "nbformat": 4,
 "nbformat_minor": 2
}
