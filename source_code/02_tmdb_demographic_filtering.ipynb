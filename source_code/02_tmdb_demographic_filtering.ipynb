{
 "cells": [
  {
   "cell_type": "markdown",
   "metadata": {},
   "source": [
    "1. Demographic Filtering (마치 IMDB TOP 250)\n",
    "- 가중치 점수(Weighted Rating)을 각 영화마다 구한다.\n",
    "    - C(전체 영화들의 평균 점수)를 구한다.\n",
    "    - m(차트 진입 최소 평가수)을 구한다.\n",
    "    - WR을 구하는 함수를 만든다.\n",
    "    - 각 영화마다 WR을 구하여 한 컬럼에 저장한다.\n",
    "- WR을 기준으로 하여 DataFrame을 정렬한다."
   ]
  },
  {
   "cell_type": "code",
   "execution_count": 1,
   "metadata": {},
   "outputs": [],
   "source": [
    "import pandas as pd\n",
    "import numpy as np"
   ]
  },
  {
   "cell_type": "code",
   "execution_count": 2,
   "metadata": {},
   "outputs": [],
   "source": [
    "movieDF = pd.read_csv('../data/processed/tmdb_4796.csv')"
   ]
  },
  {
   "cell_type": "code",
   "execution_count": 3,
   "metadata": {},
   "outputs": [
    {
     "name": "stdout",
     "output_type": "stream",
     "text": [
      "<class 'pandas.core.frame.DataFrame'>\n",
      "RangeIndex: 4796 entries, 0 to 4795\n",
      "Data columns (total 18 columns):\n",
      " #   Column                Non-Null Count  Dtype  \n",
      "---  ------                --------------  -----  \n",
      " 0   id                    4796 non-null   int64  \n",
      " 1   title                 4796 non-null   object \n",
      " 2   release_date          4796 non-null   object \n",
      " 3   original_language     4796 non-null   object \n",
      " 4   overview              4795 non-null   object \n",
      " 5   cast                  4796 non-null   object \n",
      " 6   crew                  4796 non-null   object \n",
      " 7   production_countries  4707 non-null   object \n",
      " 8   keywords              4523 non-null   object \n",
      " 9   tagline               4222 non-null   object \n",
      " 10  genres                4789 non-null   object \n",
      " 11  vote_average          4796 non-null   float64\n",
      " 12  vote_count            4796 non-null   int64  \n",
      " 13  popularity            4796 non-null   float64\n",
      " 14  runtime               4796 non-null   int64  \n",
      " 15  backdrop_path         4615 non-null   object \n",
      " 16  poster_path           4771 non-null   object \n",
      " 17  homepage              1772 non-null   object \n",
      "dtypes: float64(2), int64(3), object(13)\n",
      "memory usage: 674.6+ KB\n"
     ]
    }
   ],
   "source": [
    "movieDF.info()"
   ]
  },
  {
   "cell_type": "code",
   "execution_count": 4,
   "metadata": {},
   "outputs": [
    {
     "data": {
      "text/plain": [
       "id                         0\n",
       "title                      0\n",
       "release_date               0\n",
       "original_language          0\n",
       "overview                   1\n",
       "cast                       0\n",
       "crew                       0\n",
       "production_countries      89\n",
       "keywords                 273\n",
       "tagline                  574\n",
       "genres                     7\n",
       "vote_average               0\n",
       "vote_count                 0\n",
       "popularity                 0\n",
       "runtime                    0\n",
       "backdrop_path            181\n",
       "poster_path               25\n",
       "homepage                3024\n",
       "dtype: int64"
      ]
     },
     "execution_count": 4,
     "metadata": {},
     "output_type": "execute_result"
    }
   ],
   "source": [
    "### 결측치 확인\n",
    "movieDF.isna().sum()"
   ]
  },
  {
   "cell_type": "code",
   "execution_count": 5,
   "metadata": {},
   "outputs": [
    {
     "data": {
      "text/html": [
       "<div>\n",
       "<style scoped>\n",
       "    .dataframe tbody tr th:only-of-type {\n",
       "        vertical-align: middle;\n",
       "    }\n",
       "\n",
       "    .dataframe tbody tr th {\n",
       "        vertical-align: top;\n",
       "    }\n",
       "\n",
       "    .dataframe thead th {\n",
       "        text-align: right;\n",
       "    }\n",
       "</style>\n",
       "<table border=\"1\" class=\"dataframe\">\n",
       "  <thead>\n",
       "    <tr style=\"text-align: right;\">\n",
       "      <th></th>\n",
       "      <th>id</th>\n",
       "      <th>title</th>\n",
       "      <th>release_date</th>\n",
       "      <th>original_language</th>\n",
       "      <th>overview</th>\n",
       "      <th>cast</th>\n",
       "      <th>crew</th>\n",
       "      <th>production_countries</th>\n",
       "      <th>keywords</th>\n",
       "      <th>tagline</th>\n",
       "      <th>genres</th>\n",
       "      <th>vote_average</th>\n",
       "      <th>vote_count</th>\n",
       "      <th>popularity</th>\n",
       "      <th>runtime</th>\n",
       "      <th>backdrop_path</th>\n",
       "      <th>poster_path</th>\n",
       "      <th>homepage</th>\n",
       "    </tr>\n",
       "  </thead>\n",
       "  <tbody>\n",
       "    <tr>\n",
       "      <th>0</th>\n",
       "      <td>19995</td>\n",
       "      <td>Avatar</td>\n",
       "      <td>2009-12-15</td>\n",
       "      <td>en</td>\n",
       "      <td>In the 22nd century, a paraplegic Marine is di...</td>\n",
       "      <td>[{\"cast_id\": 242, \"character\": \"Jake Sully\", \"...</td>\n",
       "      <td>[{\"credit_id\": \"52fe48009251416c750aca23\", \"de...</td>\n",
       "      <td>United States of America, United Kingdom</td>\n",
       "      <td>future, society, culture clash, space travel, ...</td>\n",
       "      <td>Enter the world of Pandora.</td>\n",
       "      <td>Action, Adventure, Fantasy, Science Fiction</td>\n",
       "      <td>7.573</td>\n",
       "      <td>29815</td>\n",
       "      <td>79.932</td>\n",
       "      <td>162</td>\n",
       "      <td>/vL5LR6WdxWPjLPFRLe133jXWsh5.jpg</td>\n",
       "      <td>/kyeqWdyUXW608qlYkRqosgbbJyK.jpg</td>\n",
       "      <td>https://www.avatar.com/movies/avatar</td>\n",
       "    </tr>\n",
       "    <tr>\n",
       "      <th>1</th>\n",
       "      <td>285</td>\n",
       "      <td>Pirates of the Caribbean: At World's End</td>\n",
       "      <td>2007-05-19</td>\n",
       "      <td>en</td>\n",
       "      <td>Captain Barbossa, long believed to be dead, ha...</td>\n",
       "      <td>[{\"cast_id\": 4, \"character\": \"Captain Jack Spa...</td>\n",
       "      <td>[{\"credit_id\": \"52fe4232c3a36847f800b579\", \"de...</td>\n",
       "      <td>United States of America</td>\n",
       "      <td>east india company, exotic island, strong woma...</td>\n",
       "      <td>At the end of the world, the adventure begins.</td>\n",
       "      <td>Adventure, Fantasy, Action</td>\n",
       "      <td>7.239</td>\n",
       "      <td>13345</td>\n",
       "      <td>81.883</td>\n",
       "      <td>169</td>\n",
       "      <td>/kPcHuPYqzkSo4bmPHtH82GaeEgX.jpg</td>\n",
       "      <td>/jGWpG4YhpQwVmjyHEGkxEkeRf0S.jpg</td>\n",
       "      <td>https://movies.disney.com/pirates-of-the-carib...</td>\n",
       "    </tr>\n",
       "  </tbody>\n",
       "</table>\n",
       "</div>"
      ],
      "text/plain": [
       "      id                                     title release_date  \\\n",
       "0  19995                                    Avatar   2009-12-15   \n",
       "1    285  Pirates of the Caribbean: At World's End   2007-05-19   \n",
       "\n",
       "  original_language                                           overview  \\\n",
       "0                en  In the 22nd century, a paraplegic Marine is di...   \n",
       "1                en  Captain Barbossa, long believed to be dead, ha...   \n",
       "\n",
       "                                                cast  \\\n",
       "0  [{\"cast_id\": 242, \"character\": \"Jake Sully\", \"...   \n",
       "1  [{\"cast_id\": 4, \"character\": \"Captain Jack Spa...   \n",
       "\n",
       "                                                crew  \\\n",
       "0  [{\"credit_id\": \"52fe48009251416c750aca23\", \"de...   \n",
       "1  [{\"credit_id\": \"52fe4232c3a36847f800b579\", \"de...   \n",
       "\n",
       "                       production_countries  \\\n",
       "0  United States of America, United Kingdom   \n",
       "1                  United States of America   \n",
       "\n",
       "                                            keywords  \\\n",
       "0  future, society, culture clash, space travel, ...   \n",
       "1  east india company, exotic island, strong woma...   \n",
       "\n",
       "                                          tagline  \\\n",
       "0                     Enter the world of Pandora.   \n",
       "1  At the end of the world, the adventure begins.   \n",
       "\n",
       "                                        genres  vote_average  vote_count  \\\n",
       "0  Action, Adventure, Fantasy, Science Fiction         7.573       29815   \n",
       "1                   Adventure, Fantasy, Action         7.239       13345   \n",
       "\n",
       "   popularity  runtime                     backdrop_path  \\\n",
       "0      79.932      162  /vL5LR6WdxWPjLPFRLe133jXWsh5.jpg   \n",
       "1      81.883      169  /kPcHuPYqzkSo4bmPHtH82GaeEgX.jpg   \n",
       "\n",
       "                        poster_path  \\\n",
       "0  /kyeqWdyUXW608qlYkRqosgbbJyK.jpg   \n",
       "1  /jGWpG4YhpQwVmjyHEGkxEkeRf0S.jpg   \n",
       "\n",
       "                                            homepage  \n",
       "0               https://www.avatar.com/movies/avatar  \n",
       "1  https://movies.disney.com/pirates-of-the-carib...  "
      ]
     },
     "execution_count": 5,
     "metadata": {},
     "output_type": "execute_result"
    }
   ],
   "source": [
    "movieDF.head(2)"
   ]
  },
  {
   "cell_type": "code",
   "execution_count": 6,
   "metadata": {},
   "outputs": [],
   "source": [
    "### C : 전체 영화 평점 평균 \n",
    "C = movieDF['vote_average'].mean()  # 6.3089376563803174"
   ]
  },
  {
   "cell_type": "code",
   "execution_count": 7,
   "metadata": {},
   "outputs": [
    {
     "data": {
      "image/png": "[encoded data removed]",
      "text/plain": [
       "<Figure size 640x480 with 1 Axes>"
      ]
     },
     "metadata": {},
     "output_type": "display_data"
    }
   ],
   "source": [
    "import matplotlib.pyplot as plt\n",
    "import seaborn as sns\n",
    "\n",
    "sns.histplot(movieDF['vote_count'])\n",
    "\n",
    "plt.title('Histogram of Vote Counts')\n",
    "plt.show()"
   ]
  },
  {
   "cell_type": "code",
   "execution_count": 8,
   "metadata": {},
   "outputs": [],
   "source": [
    "### m : 차트 진입 가능한 최소 평점수 (상위 25%까지)\n",
    "m = movieDF['vote_count'].quantile(0.75)    # 2456.25"
   ]
  },
  {
   "cell_type": "code",
   "execution_count": 9,
   "metadata": {},
   "outputs": [
    {
     "data": {
      "text/plain": [
       "(1199, 18)"
      ]
     },
     "execution_count": 9,
     "metadata": {},
     "output_type": "execute_result"
    }
   ],
   "source": [
    "### 차트 진입 가능한 영화 필터링\n",
    "q_movieDF = movieDF.copy().loc[movieDF['vote_count'] >= m]\n",
    "q_movieDF.shape"
   ]
  },
  {
   "cell_type": "code",
   "execution_count": 10,
   "metadata": {},
   "outputs": [],
   "source": [
    "def weighted_rating(x, m=m, C=C):\n",
    "    v = x['vote_count']    # 평점 개수\n",
    "    R = x['vote_average']  # 각 영화의 평균 평점\n",
    "    \n",
    "    return (v / (v + m)) * R + (m / (v + m)) * C"
   ]
  },
  {
   "cell_type": "code",
   "execution_count": 11,
   "metadata": {},
   "outputs": [],
   "source": [
    "q_movieDF['WR'] = q_movieDF.apply(weighted_rating, axis=1)"
   ]
  },
  {
   "cell_type": "code",
   "execution_count": 12,
   "metadata": {},
   "outputs": [],
   "source": [
    "### WR 기준으로 내림차순 정렬\n",
    "q_movieDF = q_movieDF.sort_values('WR', ascending=False)"
   ]
  },
  {
   "cell_type": "code",
   "execution_count": 13,
   "metadata": {},
   "outputs": [
    {
     "data": {
      "text/html": [
       "<div>\n",
       "<style scoped>\n",
       "    .dataframe tbody tr th:only-of-type {\n",
       "        vertical-align: middle;\n",
       "    }\n",
       "\n",
       "    .dataframe tbody tr th {\n",
       "        vertical-align: top;\n",
       "    }\n",
       "\n",
       "    .dataframe thead th {\n",
       "        text-align: right;\n",
       "    }\n",
       "</style>\n",
       "<table border=\"1\" class=\"dataframe\">\n",
       "  <thead>\n",
       "    <tr style=\"text-align: right;\">\n",
       "      <th></th>\n",
       "      <th>id</th>\n",
       "      <th>title</th>\n",
       "      <th>vote_count</th>\n",
       "      <th>vote_average</th>\n",
       "    </tr>\n",
       "  </thead>\n",
       "  <tbody>\n",
       "    <tr>\n",
       "      <th>1881</th>\n",
       "      <td>278</td>\n",
       "      <td>The Shawshank Redemption</td>\n",
       "      <td>24649</td>\n",
       "      <td>8.702</td>\n",
       "    </tr>\n",
       "    <tr>\n",
       "      <th>3333</th>\n",
       "      <td>238</td>\n",
       "      <td>The Godfather</td>\n",
       "      <td>18677</td>\n",
       "      <td>8.707</td>\n",
       "    </tr>\n",
       "    <tr>\n",
       "      <th>65</th>\n",
       "      <td>155</td>\n",
       "      <td>The Dark Knight</td>\n",
       "      <td>30619</td>\n",
       "      <td>8.512</td>\n",
       "    </tr>\n",
       "    <tr>\n",
       "      <th>3230</th>\n",
       "      <td>680</td>\n",
       "      <td>Pulp Fiction</td>\n",
       "      <td>25893</td>\n",
       "      <td>8.488</td>\n",
       "    </tr>\n",
       "    <tr>\n",
       "      <th>809</th>\n",
       "      <td>13</td>\n",
       "      <td>Forrest Gump</td>\n",
       "      <td>25409</td>\n",
       "      <td>8.477</td>\n",
       "    </tr>\n",
       "    <tr>\n",
       "      <th>95</th>\n",
       "      <td>157336</td>\n",
       "      <td>Interstellar</td>\n",
       "      <td>32571</td>\n",
       "      <td>8.417</td>\n",
       "    </tr>\n",
       "    <tr>\n",
       "      <th>662</th>\n",
       "      <td>550</td>\n",
       "      <td>Fight Club</td>\n",
       "      <td>27238</td>\n",
       "      <td>8.438</td>\n",
       "    </tr>\n",
       "    <tr>\n",
       "      <th>329</th>\n",
       "      <td>122</td>\n",
       "      <td>The Lord of the Rings: The Return of the King</td>\n",
       "      <td>22334</td>\n",
       "      <td>8.474</td>\n",
       "    </tr>\n",
       "    <tr>\n",
       "      <th>1818</th>\n",
       "      <td>424</td>\n",
       "      <td>Schindler's List</td>\n",
       "      <td>14594</td>\n",
       "      <td>8.573</td>\n",
       "    </tr>\n",
       "    <tr>\n",
       "      <th>96</th>\n",
       "      <td>27205</td>\n",
       "      <td>Inception</td>\n",
       "      <td>34495</td>\n",
       "      <td>8.364</td>\n",
       "    </tr>\n",
       "  </tbody>\n",
       "</table>\n",
       "</div>"
      ],
      "text/plain": [
       "          id                                          title  vote_count  \\\n",
       "1881     278                       The Shawshank Redemption       24649   \n",
       "3333     238                                  The Godfather       18677   \n",
       "65       155                                The Dark Knight       30619   \n",
       "3230     680                                   Pulp Fiction       25893   \n",
       "809       13                                   Forrest Gump       25409   \n",
       "95    157336                                   Interstellar       32571   \n",
       "662      550                                     Fight Club       27238   \n",
       "329      122  The Lord of the Rings: The Return of the King       22334   \n",
       "1818     424                               Schindler's List       14594   \n",
       "96     27205                                      Inception       34495   \n",
       "\n",
       "      vote_average  \n",
       "1881         8.702  \n",
       "3333         8.707  \n",
       "65           8.512  \n",
       "3230         8.488  \n",
       "809          8.477  \n",
       "95           8.417  \n",
       "662          8.438  \n",
       "329          8.474  \n",
       "1818         8.573  \n",
       "96           8.364  "
      ]
     },
     "execution_count": 13,
     "metadata": {},
     "output_type": "execute_result"
    }
   ],
   "source": [
    "### 상위 10개 영화 확인\n",
    "q_movieDF[['id', 'title', 'vote_count', 'vote_average']].head(10)"
   ]
  },
  {
   "cell_type": "code",
   "execution_count": 14,
   "metadata": {},
   "outputs": [
    {
     "data": {
      "text/html": [
       "<div>\n",
       "<style scoped>\n",
       "    .dataframe tbody tr th:only-of-type {\n",
       "        vertical-align: middle;\n",
       "    }\n",
       "\n",
       "    .dataframe tbody tr th {\n",
       "        vertical-align: top;\n",
       "    }\n",
       "\n",
       "    .dataframe thead th {\n",
       "        text-align: right;\n",
       "    }\n",
       "</style>\n",
       "<table border=\"1\" class=\"dataframe\">\n",
       "  <thead>\n",
       "    <tr style=\"text-align: right;\">\n",
       "      <th></th>\n",
       "      <th>id</th>\n",
       "      <th>title</th>\n",
       "    </tr>\n",
       "  </thead>\n",
       "  <tbody>\n",
       "    <tr>\n",
       "      <th>1881</th>\n",
       "      <td>278</td>\n",
       "      <td>The Shawshank Redemption</td>\n",
       "    </tr>\n",
       "    <tr>\n",
       "      <th>3333</th>\n",
       "      <td>238</td>\n",
       "      <td>The Godfather</td>\n",
       "    </tr>\n",
       "    <tr>\n",
       "      <th>65</th>\n",
       "      <td>155</td>\n",
       "      <td>The Dark Knight</td>\n",
       "    </tr>\n",
       "    <tr>\n",
       "      <th>3230</th>\n",
       "      <td>680</td>\n",
       "      <td>Pulp Fiction</td>\n",
       "    </tr>\n",
       "    <tr>\n",
       "      <th>809</th>\n",
       "      <td>13</td>\n",
       "      <td>Forrest Gump</td>\n",
       "    </tr>\n",
       "    <tr>\n",
       "      <th>...</th>\n",
       "      <td>...</td>\n",
       "      <td>...</td>\n",
       "    </tr>\n",
       "    <tr>\n",
       "      <th>118</th>\n",
       "      <td>2062</td>\n",
       "      <td>Ratatouille</td>\n",
       "    </tr>\n",
       "    <tr>\n",
       "      <th>4261</th>\n",
       "      <td>100</td>\n",
       "      <td>Lock, Stock and Two Smoking Barrels</td>\n",
       "    </tr>\n",
       "    <tr>\n",
       "      <th>16</th>\n",
       "      <td>24428</td>\n",
       "      <td>The Avengers</td>\n",
       "    </tr>\n",
       "    <tr>\n",
       "      <th>1557</th>\n",
       "      <td>70</td>\n",
       "      <td>Million Dollar Baby</td>\n",
       "    </tr>\n",
       "    <tr>\n",
       "      <th>556</th>\n",
       "      <td>197</td>\n",
       "      <td>Braveheart</td>\n",
       "    </tr>\n",
       "  </tbody>\n",
       "</table>\n",
       "<p>100 rows × 2 columns</p>\n",
       "</div>"
      ],
      "text/plain": [
       "         id                                title\n",
       "1881    278             The Shawshank Redemption\n",
       "3333    238                        The Godfather\n",
       "65      155                      The Dark Knight\n",
       "3230    680                         Pulp Fiction\n",
       "809      13                         Forrest Gump\n",
       "...     ...                                  ...\n",
       "118    2062                          Ratatouille\n",
       "4261    100  Lock, Stock and Two Smoking Barrels\n",
       "16    24428                         The Avengers\n",
       "1557     70                  Million Dollar Baby\n",
       "556     197                           Braveheart\n",
       "\n",
       "[100 rows x 2 columns]"
      ]
     },
     "execution_count": 14,
     "metadata": {},
     "output_type": "execute_result"
    }
   ],
   "source": [
    "### Top 100 영화들의 csv 파일에서의 인덱스 저장\n",
    "top_100_indices = q_movieDF['id'].head(100).index\n",
    "movieDF[['id', 'title']].loc[top_100_indices]"
   ]
  },
  {
   "cell_type": "code",
   "execution_count": 15,
   "metadata": {},
   "outputs": [],
   "source": [
    "### npy 파일로 top_100_indices 저장\n",
    "np.save('../data/processed/top_100_indices.npy', top_100_indices)"
   ]
  },
  {
   "cell_type": "code",
   "execution_count": 16,
   "metadata": {},
   "outputs": [],
   "source": [
    "### 저장한 npy 파일을 로드\n",
    "# h = np.load('../data/processed/top_100_indices.npy')"
   ]
  },
  {
   "cell_type": "code",
   "execution_count": 17,
   "metadata": {},
   "outputs": [
    {
     "data": {
      "text/plain": [
       "array([   278,    238,    155,    680,     13, 157336,    550,    122,\n",
       "          424,  27205], dtype=int64)"
      ]
     },
     "execution_count": 17,
     "metadata": {},
     "output_type": "execute_result"
    }
   ],
   "source": [
    "### Top 100 영화들의 tmdb id 저장\n",
    "top_100_ids = q_movieDF['id'].head(100).values\n",
    "top_100_ids[:10]"
   ]
  },
  {
   "cell_type": "code",
   "execution_count": 18,
   "metadata": {},
   "outputs": [],
   "source": [
    "### npy 파일로 top_100_ids 저장\n",
    "np.save('../data/processed/top_100_ids.npy', top_100_ids)"
   ]
  },
  {
   "cell_type": "code",
   "execution_count": 19,
   "metadata": {},
   "outputs": [],
   "source": [
    "### 저장한 npy 파일을 로드\n",
    "# h = np.load('../data/processed/top_100_ids.npy')"
   ]
  },
  {
   "cell_type": "code",
   "execution_count": null,
   "metadata": {},
   "outputs": [],
   "source": []
  }
 ],
 "metadata": {
  "kernelspec": {
   "display_name": "Text_017_220_38",
   "language": "python",
   "name": "python3"
  },
  "language_info": {
   "codemirror_mode": {
    "name": "ipython",
    "version": 3
   },
   "file_extension": ".py",
   "mimetype": "text/x-python",
   "name": "python",
   "nbconvert_exporter": "python",
   "pygments_lexer": "ipython3",
   "version": "3.8.19"
  }
 },
 "nbformat": 4,
 "nbformat_minor": 2
}
